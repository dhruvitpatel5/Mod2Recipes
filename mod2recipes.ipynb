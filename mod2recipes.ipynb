{
 "cells": [
  {
   "cell_type": "code",
   "execution_count": null,
   "metadata": {},
   "outputs": [],
   "source": [
    "import requests \n",
    "import pandas as pd \n",
    "import networkx as nx\n",
    "import matplotlib.pyplot as plt"
   ]
  },
  {
   "cell_type": "code",
   "execution_count": null,
   "metadata": {},
   "outputs": [],
   "source": [
    "\n",
    "url = 'https://api.spoonacular.com/recipes/complexSearch'\n",
    "parameters = {\n",
    "    'apiKey' : '2e3c69dee3b24c7dbc5d0408c8ed36e5',\n",
    "    'number':75,\n",
    "    'fillIngredients' : True,\n",
    "    'addRecipeInformation' : True\n",
    "}\n",
    "res = requests.get(url,params=parameters)\n",
    "data = res.json()\n"
   ]
  },
  {
   "cell_type": "code",
   "execution_count": null,
   "metadata": {},
   "outputs": [],
   "source": [
    "G = nx.Graph()\n",
    "\n",
    "for recipe in data['results']:\n",
    "    ingredients = [ingredient['name'] for ingredient in recipe['extendedIngredients']]\n",
    "    # Add nodes and edges for each pair of ingredients in the same recipe\n",
    "    for i in range(len(ingredients)):\n",
    "        for j in range(i + 1, len(ingredients)):\n",
    "            if G.has_edge(ingredients[i], ingredients[j]):\n",
    "                # Increase the weight if the edge already exists\n",
    "                G[ingredients[i]][ingredients[j]]['weight'] += 1\n",
    "            else:\n",
    "                # Add a new edge with weight 1\n",
    "                G.add_edge(ingredients[i], ingredients[j], weight=1)\n",
    "\n",
    "# Calculate degree centrality for each node\n",
    "centrality = nx.degree_centrality(G)\n",
    "# Scale node sizes by centrality\n",
    "node_sizes = [centrality[node] * 10000 for node in G.nodes()]  # Scale up for better visibility\n",
    "\n",
    "# Use a different layout to better spread out nodes\n",
    "pos = nx.spring_layout(G,k=0.5)  # Increase the 'k' parameter to push nodes further apart\n",
    "\n",
    "# Draw the graph\n",
    "plt.figure(figsize=(20, 20))  # Increase figure size for better visibility\n",
    "nx.draw_networkx_nodes(G, pos, node_size=node_sizes, node_color='skyblue', alpha=0.6)\n",
    "nx.draw_networkx_edges(G, pos, alpha=0.5)\n",
    "nx.draw_networkx_labels(G, pos, font_size=8)\n",
    "plt.title('Network of Ingredients Based on Common Recipes')\n",
    "plt.show()"
   ]
  }
 ],
 "metadata": {
  "language_info": {
   "name": "python"
  }
 },
 "nbformat": 4,
 "nbformat_minor": 2
}
