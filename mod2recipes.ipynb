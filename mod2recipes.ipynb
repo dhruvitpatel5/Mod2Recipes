{
 "cells": [
  {
   "cell_type": "code",
   "execution_count": null,
   "metadata": {},
   "outputs": [],
   "source": [
    "import requests \n",
    "import pandas as pd \n",
    "import networkx as nx\n",
    "import matplotlib.pyplot as plt"
   ]
  },
  {
   "cell_type": "code",
   "execution_count": null,
   "metadata": {},
   "outputs": [],
   "source": [
    "\n",
    "url = 'https://api.spoonacular.com/recipes/complexSearch'\n",
    "parameters = {\n",
    "    'apiKey' : '2e3c69dee3b24c7dbc5d0408c8ed36e5',\n",
    "    'number':75,\n",
    "    'fillIngredients' : True,\n",
    "    'addRecipeInformation' : True\n",
    "}\n",
    "res = requests.get(url,params=parameters)\n",
    "data = res.json()\n"
   ]
  },
  {
   "cell_type": "code",
   "execution_count": null,
   "metadata": {},
   "outputs": [],
   "source": [
    "G = nx.Graph()\n",
    "\n",
    "for recipe in data['results']:\n",
    "    ingredients = [ingredient['name'] for ingredient in recipe['extendedIngredients']]\n",
    "    for i in range(len(ingredients)):\n",
    "        for j in range(i + 1, len(ingredients)):\n",
    "            if G.has_edge(ingredients[i], ingredients[j]):\n",
    "                G[ingredients[i]][ingredients[j]]['weight'] += 1\n",
    "            else:\n",
    "                G.add_edge(ingredients[i], ingredients[j], weight=1)\n",
    "\n",
    "centrality = nx.degree_centrality(G)\n",
    "node_sizes = [centrality[node] * 10000 for node in G.nodes()]  \n",
    "pos = nx.spring_layout(G,k=0.5)  \n",
    "\n",
    "plt.figure(figsize=(20, 20))  \n",
    "nx.draw_networkx_nodes(G, pos, node_size=node_sizes, node_color='skyblue', alpha=0.6)\n",
    "nx.draw_networkx_edges(G, pos, alpha=0.5)\n",
    "nx.draw_networkx_labels(G, pos, font_size=8)\n",
    "plt.title('Network of Ingredients Based on Common Recipes')\n",
    "plt.show()"
   ]
  }
 ],
 "metadata": {
  "language_info": {
   "name": "python"
  }
 },
 "nbformat": 4,
 "nbformat_minor": 2
}
